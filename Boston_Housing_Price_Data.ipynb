{
  "nbformat": 4,
  "nbformat_minor": 0,
  "metadata": {
    "colab": {
      "name": "Boston Housing Price Data.ipynb",
      "provenance": [],
      "collapsed_sections": [],
      "toc_visible": true,
      "authorship_tag": "ABX9TyO0kR3uwzOp6LkDBSKwFs2/",
      "include_colab_link": true
    },
    "kernelspec": {
      "name": "python3",
      "display_name": "Python 3"
    }
  },
  "cells": [
    {
      "cell_type": "markdown",
      "metadata": {
        "id": "view-in-github",
        "colab_type": "text"
      },
      "source": [
        "<a href=\"https://colab.research.google.com/github/rupakgoyal/deep-learning/blob/master/Boston_Housing_Price_Data.ipynb\" target=\"_parent\"><img src=\"https://colab.research.google.com/assets/colab-badge.svg\" alt=\"Open In Colab\"/></a>"
      ]
    },
    {
      "cell_type": "code",
      "metadata": {
        "id": "1RtsXbXUYui_",
        "colab_type": "code",
        "colab": {}
      },
      "source": [
        "!pip install -q keras\n",
        "import keras"
      ],
      "execution_count": 3,
      "outputs": []
    },
    {
      "cell_type": "code",
      "metadata": {
        "id": "Swvdafjva4EY",
        "colab_type": "code",
        "colab": {}
      },
      "source": [
        "from keras.datasets import boston_housing"
      ],
      "execution_count": 4,
      "outputs": []
    },
    {
      "cell_type": "code",
      "metadata": {
        "id": "wLni-yssbtVa",
        "colab_type": "code",
        "colab": {}
      },
      "source": [
        "(train_data,train_targets),(test_data,test_targets) = boston_housing.load_data()"
      ],
      "execution_count": 18,
      "outputs": []
    },
    {
      "cell_type": "code",
      "metadata": {
        "id": "LNr_DeN8cSr8",
        "colab_type": "code",
        "colab": {}
      },
      "source": [
        "mean = train_data.mean(axis = 0)"
      ],
      "execution_count": 19,
      "outputs": []
    },
    {
      "cell_type": "code",
      "metadata": {
        "id": "oVHumXZsdAip",
        "colab_type": "code",
        "colab": {}
      },
      "source": [
        "train_data -= mean\n",
        "std = train_data.std(axis = 0)\n",
        "train_data /= std"
      ],
      "execution_count": 20,
      "outputs": []
    },
    {
      "cell_type": "code",
      "metadata": {
        "id": "fKi1zE6Tb-nh",
        "colab_type": "code",
        "colab": {}
      },
      "source": [
        "test_data -= mean\n",
        "test_data /= std"
      ],
      "execution_count": 21,
      "outputs": []
    },
    {
      "cell_type": "code",
      "metadata": {
        "id": "GDpcLYLhc2wA",
        "colab_type": "code",
        "colab": {}
      },
      "source": [
        "from keras import models\n",
        "from keras import layers"
      ],
      "execution_count": 22,
      "outputs": []
    },
    {
      "cell_type": "code",
      "metadata": {
        "id": "EN4iyFh1eA3U",
        "colab_type": "code",
        "colab": {
          "base_uri": "https://localhost:8080/",
          "height": 34
        },
        "outputId": "d3d55466-f0e9-47d6-ebf6-cd67d7b030f0"
      },
      "source": [
        "train_data.shape[1]"
      ],
      "execution_count": 25,
      "outputs": [
        {
          "output_type": "execute_result",
          "data": {
            "text/plain": [
              "13"
            ]
          },
          "metadata": {
            "tags": []
          },
          "execution_count": 25
        }
      ]
    },
    {
      "cell_type": "code",
      "metadata": {
        "id": "RonQv_L9dp68",
        "colab_type": "code",
        "colab": {}
      },
      "source": [
        "def build_models():\n",
        "  model = models.Sequential()\n",
        "  model.add(layers.Dense(64,activation='relu',input_shape = (train_data.shape[1],)))\n",
        "  model.add(layers.Dense(64,activation='relu'))\n",
        "  model.add(layers.Dense(1))\n",
        "  model.compile(optimizer = 'rmsprop',loss = 'mse',metrics =['mae'])\n",
        "  return model"
      ],
      "execution_count": 28,
      "outputs": []
    },
    {
      "cell_type": "code",
      "metadata": {
        "id": "QjHkyDtkiVxi",
        "colab_type": "code",
        "colab": {}
      },
      "source": [
        "# Note that you compile the network with the mse loss function—mean squared error, the square of the difference between the predictions and the targets. This is a widely used loss function for regression problems.\n",
        "# You’re also monitoring a new metric during training: mean absolute error (MAE). It’s the absolute value of the difference between the predictions and the targets. For instance, an MAE of 0.5 on this problem would mean your predictions are off by $500 on average.\n"
      ],
      "execution_count": null,
      "outputs": []
    },
    {
      "cell_type": "code",
      "metadata": {
        "id": "Y1FMnlolehYB",
        "colab_type": "code",
        "colab": {}
      },
      "source": [
        "# Validating your approach using K-fold validation"
      ],
      "execution_count": null,
      "outputs": []
    },
    {
      "cell_type": "code",
      "metadata": {
        "id": "FIIRmNmpgWsz",
        "colab_type": "code",
        "colab": {}
      },
      "source": [
        "import numpy as np\n",
        "k = 4\n",
        "\n",
        "num_val_samples = len(train_data) //k \n",
        "num_epochs = 100\n",
        "all_scores = []\n"
      ],
      "execution_count": 29,
      "outputs": []
    },
    {
      "cell_type": "code",
      "metadata": {
        "id": "PjBzud0xgwX9",
        "colab_type": "code",
        "colab": {
          "base_uri": "https://localhost:8080/",
          "height": 85
        },
        "outputId": "7bcb284d-12ae-4d6a-e23f-704ef9586ac1"
      },
      "source": [
        "for i in range(k):\n",
        "  print('processing fold # ', i)\n",
        "  val_data = train_data[i * num_val_samples:(i+1) * num_val_samples]\n",
        "  val_targets = train_targets[i * num_val_samples:(i+1) * num_val_samples]\n",
        "  \n",
        "\n",
        "  partial_train_data = np.concatenate([train_data[:i * num_val_samples],\n",
        "train_data[(i + 1) * num_val_samples:]], axis=0)\n",
        "  partial_train_targets = np.concatenate( [train_targets[:i * num_val_samples],\n",
        "train_targets[(i + 1) * num_val_samples:]], axis=0)\n",
        "  \n",
        "  model = build_models()\n",
        "  model.fit(partial_train_data,partial_train_targets,epochs = num_epochs,batch_size=1, verbose=0) \n",
        "  val_mse, val_mae = model.evaluate(val_data, val_targets, verbose=0)\n",
        "  all_scores.append(val_mae)\n"
      ],
      "execution_count": 30,
      "outputs": [
        {
          "output_type": "stream",
          "text": [
            "processing fold #  0\n",
            "processing fold #  1\n",
            "processing fold #  2\n",
            "processing fold #  3\n"
          ],
          "name": "stdout"
        }
      ]
    },
    {
      "cell_type": "code",
      "metadata": {
        "id": "H7t_LkA4hLOU",
        "colab_type": "code",
        "colab": {
          "base_uri": "https://localhost:8080/",
          "height": 34
        },
        "outputId": "db90ebda-2e67-4844-8434-6bf20644c635"
      },
      "source": [
        "np.mean(all_scores)"
      ],
      "execution_count": 33,
      "outputs": [
        {
          "output_type": "execute_result",
          "data": {
            "text/plain": [
              "2.3884435296058655"
            ]
          },
          "metadata": {
            "tags": []
          },
          "execution_count": 33
        }
      ]
    },
    {
      "cell_type": "code",
      "metadata": {
        "id": "WuaAuIi_ibTm",
        "colab_type": "code",
        "colab": {}
      },
      "source": [
        "num_epochs = 500\n",
        "all_mae_histories = []"
      ],
      "execution_count": 35,
      "outputs": []
    },
    {
      "cell_type": "code",
      "metadata": {
        "id": "Ts9t9pifi9U9",
        "colab_type": "code",
        "colab": {
          "base_uri": "https://localhost:8080/",
          "height": 85
        },
        "outputId": "5bb39a5e-4bad-4669-a6ea-4a78f1ecab21"
      },
      "source": [
        "for i in range(k):\n",
        "  print('processing fold # ', i)\n",
        "  val_data = train_data[i * num_val_samples:(i+1) * num_val_samples]\n",
        "  val_targets = train_targets[i * num_val_samples:(i+1) * num_val_samples]\n",
        "  \n",
        "\n",
        "  partial_train_data = np.concatenate([train_data[:i * num_val_samples],\n",
        "train_data[(i + 1) * num_val_samples:]], axis=0)\n",
        "  partial_train_targets = np.concatenate( [train_targets[:i * num_val_samples],\n",
        "train_targets[(i + 1) * num_val_samples:]], axis=0)\n",
        "  \n",
        "  model = build_models()\n",
        "  model.fit(partial_train_data,partial_train_targets,epochs = num_epochs,batch_size=1, verbose=0) \n",
        "  val_mse, val_mae = model.evaluate(val_data, val_targets, verbose=0)\n",
        "  all_mae_histories.append(val_mae)\n"
      ],
      "execution_count": 36,
      "outputs": [
        {
          "output_type": "stream",
          "text": [
            "processing fold #  0\n",
            "processing fold #  1\n",
            "processing fold #  2\n",
            "processing fold #  3\n"
          ],
          "name": "stdout"
        }
      ]
    },
    {
      "cell_type": "code",
      "metadata": {
        "id": "vwey-ejIjBv9",
        "colab_type": "code",
        "colab": {
          "base_uri": "https://localhost:8080/",
          "height": 34
        },
        "outputId": "02088b2d-81fa-4b0f-9200-4d339a7af3cc"
      },
      "source": [
        "np.mean(all_mae_histories)"
      ],
      "execution_count": 37,
      "outputs": [
        {
          "output_type": "execute_result",
          "data": {
            "text/plain": [
              "2.6534209847450256"
            ]
          },
          "metadata": {
            "tags": []
          },
          "execution_count": 37
        }
      ]
    },
    {
      "cell_type": "code",
      "metadata": {
        "id": "kVz7YekilNmH",
        "colab_type": "code",
        "colab": {
          "base_uri": "https://localhost:8080/",
          "height": 164
        },
        "outputId": "3b57ead5-7380-45f3-d554-213e2c1bf380"
      },
      "source": [
        "help(history)"
      ],
      "execution_count": 40,
      "outputs": [
        {
          "output_type": "error",
          "ename": "NameError",
          "evalue": "ignored",
          "traceback": [
            "\u001b[0;31m---------------------------------------------------------------------------\u001b[0m",
            "\u001b[0;31mNameError\u001b[0m                                 Traceback (most recent call last)",
            "\u001b[0;32m<ipython-input-40-a61e0bd914ce>\u001b[0m in \u001b[0;36m<module>\u001b[0;34m()\u001b[0m\n\u001b[0;32m----> 1\u001b[0;31m \u001b[0mhelp\u001b[0m\u001b[0;34m(\u001b[0m\u001b[0mhistory\u001b[0m\u001b[0;34m)\u001b[0m\u001b[0;34m\u001b[0m\u001b[0;34m\u001b[0m\u001b[0m\n\u001b[0m",
            "\u001b[0;31mNameError\u001b[0m: name 'history' is not defined"
          ]
        }
      ]
    },
    {
      "cell_type": "code",
      "metadata": {
        "id": "hQR3aoILlcLf",
        "colab_type": "code",
        "colab": {}
      },
      "source": [
        ""
      ],
      "execution_count": null,
      "outputs": []
    },
    {
      "cell_type": "markdown",
      "metadata": {
        "id": "BJAEwy4HnjI4",
        "colab_type": "text"
      },
      "source": [
        "# New Section"
      ]
    },
    {
      "cell_type": "markdown",
      "metadata": {
        "id": "TIF_7Nsxnjpo",
        "colab_type": "text"
      },
      "source": [
        "# New Section"
      ]
    },
    {
      "cell_type": "markdown",
      "metadata": {
        "id": "cTuEBrTInkDZ",
        "colab_type": "text"
      },
      "source": [
        "# New Section"
      ]
    }
  ]
}