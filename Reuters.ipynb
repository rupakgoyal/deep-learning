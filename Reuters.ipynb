{
  "nbformat": 4,
  "nbformat_minor": 0,
  "metadata": {
    "colab": {
      "name": "Reuters.ipynb",
      "provenance": [],
      "collapsed_sections": [],
      "authorship_tag": "ABX9TyOulu0GLywLl2+lqPeFZWw8",
      "include_colab_link": true
    },
    "kernelspec": {
      "name": "python3",
      "display_name": "Python 3"
    }
  },
  "cells": [
    {
      "cell_type": "markdown",
      "metadata": {
        "id": "view-in-github",
        "colab_type": "text"
      },
      "source": [
        "<a href=\"https://colab.research.google.com/github/rupakgoyal/deep-learning/blob/master/Reuters.ipynb\" target=\"_parent\"><img src=\"https://colab.research.google.com/assets/colab-badge.svg\" alt=\"Open In Colab\"/></a>"
      ]
    },
    {
      "cell_type": "code",
      "metadata": {
        "id": "kBNUtbBz4Dh2",
        "colab_type": "code",
        "colab": {}
      },
      "source": [
        ""
      ],
      "execution_count": null,
      "outputs": []
    },
    {
      "cell_type": "code",
      "metadata": {
        "id": "rgy76qz-shlY",
        "colab_type": "code",
        "colab": {
          "base_uri": "https://localhost:8080/",
          "height": 68
        },
        "outputId": "a6f515e6-129a-4f83-99de-132898b0689d"
      },
      "source": [
        "from keras.datasets import reuters\n",
        "(train_data ,train_labels),(test_data,test_labels)= \\\n",
        "reuters.load_data(num_words =10000)"
      ],
      "execution_count": 2,
      "outputs": [
        {
          "output_type": "stream",
          "text": [
            "Using TensorFlow backend.\n"
          ],
          "name": "stderr"
        },
        {
          "output_type": "stream",
          "text": [
            "Downloading data from https://s3.amazonaws.com/text-datasets/reuters.npz\n",
            "2113536/2110848 [==============================] - 0s 0us/step\n"
          ],
          "name": "stdout"
        }
      ]
    },
    {
      "cell_type": "code",
      "metadata": {
        "id": "kl2BeIi0tRml",
        "colab_type": "code",
        "colab": {
          "base_uri": "https://localhost:8080/",
          "height": 173
        },
        "outputId": "354432fb-7f05-4ac0-bfbe-07de1bc07c1e"
      },
      "source": [
        "train_data"
      ],
      "execution_count": 3,
      "outputs": [
        {
          "output_type": "execute_result",
          "data": {
            "text/plain": [
              "array([list([1, 2, 2, 8, 43, 10, 447, 5, 25, 207, 270, 5, 3095, 111, 16, 369, 186, 90, 67, 7, 89, 5, 19, 102, 6, 19, 124, 15, 90, 67, 84, 22, 482, 26, 7, 48, 4, 49, 8, 864, 39, 209, 154, 6, 151, 6, 83, 11, 15, 22, 155, 11, 15, 7, 48, 9, 4579, 1005, 504, 6, 258, 6, 272, 11, 15, 22, 134, 44, 11, 15, 16, 8, 197, 1245, 90, 67, 52, 29, 209, 30, 32, 132, 6, 109, 15, 17, 12]),\n",
              "       list([1, 3267, 699, 3434, 2295, 56, 2, 7511, 9, 56, 3906, 1073, 81, 5, 1198, 57, 366, 737, 132, 20, 4093, 7, 2, 49, 2295, 2, 1037, 3267, 699, 3434, 8, 7, 10, 241, 16, 855, 129, 231, 783, 5, 4, 587, 2295, 2, 2, 775, 7, 48, 34, 191, 44, 35, 1795, 505, 17, 12]),\n",
              "       list([1, 53, 12, 284, 15, 14, 272, 26, 53, 959, 32, 818, 15, 14, 272, 26, 39, 684, 70, 11, 14, 12, 3886, 18, 180, 183, 187, 70, 11, 14, 102, 32, 11, 29, 53, 44, 704, 15, 14, 19, 758, 15, 53, 959, 47, 1013, 15, 14, 19, 132, 15, 39, 965, 32, 11, 14, 147, 72, 11, 180, 183, 187, 44, 11, 14, 102, 19, 11, 123, 186, 90, 67, 960, 4, 78, 13, 68, 467, 511, 110, 59, 89, 90, 67, 1390, 55, 2678, 92, 617, 80, 1274, 46, 905, 220, 13, 4, 346, 48, 235, 629, 5, 211, 5, 1118, 7, 2, 81, 5, 187, 11, 15, 9, 1709, 201, 5, 47, 3615, 18, 478, 4514, 5, 1118, 7, 232, 2, 71, 5, 160, 63, 11, 9, 2, 81, 5, 102, 59, 11, 17, 12]),\n",
              "       ...,\n",
              "       list([1, 141, 3890, 387, 81, 8, 16, 1629, 10, 340, 1241, 850, 31, 56, 3890, 691, 9, 1241, 71, 9, 5985, 2, 2, 699, 2, 2, 2, 699, 244, 5945, 4, 49, 8, 4, 656, 850, 33, 2993, 9, 2139, 340, 3371, 1493, 9, 2, 22, 2, 1094, 687, 83, 35, 15, 257, 6, 57, 9190, 7, 4, 5956, 654, 5, 2, 6191, 1371, 4, 49, 8, 16, 369, 646, 6, 1076, 7, 124, 407, 17, 12]),\n",
              "       list([1, 53, 46, 957, 26, 14, 74, 132, 26, 39, 46, 258, 3614, 18, 14, 74, 134, 5131, 18, 88, 2321, 72, 11, 14, 1842, 32, 11, 123, 383, 89, 39, 46, 235, 10, 864, 728, 5, 258, 44, 11, 15, 22, 753, 9, 42, 92, 131, 728, 5, 69, 312, 11, 15, 22, 222, 2, 3237, 383, 48, 39, 74, 235, 10, 864, 276, 5, 61, 32, 11, 15, 21, 4, 211, 5, 126, 1072, 42, 92, 131, 46, 19, 352, 11, 15, 22, 710, 220, 9, 42, 92, 131, 276, 5, 59, 61, 11, 15, 22, 10, 455, 7, 1172, 137, 336, 1325, 6, 1532, 142, 971, 6463, 43, 359, 5, 4, 326, 753, 364, 17, 12]),\n",
              "       list([1, 227, 2406, 91, 2, 125, 2855, 21, 4, 3976, 76, 7, 4, 757, 481, 3976, 790, 5259, 5654, 9, 111, 149, 8, 7, 10, 76, 223, 51, 4, 417, 8, 1047, 91, 6917, 1688, 340, 7, 194, 9411, 6, 1894, 21, 127, 2151, 2394, 1456, 6, 3034, 4, 329, 433, 7, 65, 87, 1127, 10, 8219, 1475, 290, 9, 21, 567, 16, 1926, 24, 4, 76, 209, 30, 4033, 6655, 5654, 8, 4, 60, 8, 4, 966, 308, 40, 2575, 129, 2, 295, 277, 1071, 9, 24, 286, 2114, 234, 222, 9, 4, 906, 3994, 8519, 114, 5758, 1752, 7, 4, 113, 17, 12])],\n",
              "      dtype=object)"
            ]
          },
          "metadata": {
            "tags": []
          },
          "execution_count": 3
        }
      ]
    },
    {
      "cell_type": "code",
      "metadata": {
        "id": "gDIV-4PvtmBl",
        "colab_type": "code",
        "colab": {
          "base_uri": "https://localhost:8080/",
          "height": 34
        },
        "outputId": "52d229dc-6665-4e99-d09c-5789f79e454f"
      },
      "source": [
        "len(train_data),len(test_data)"
      ],
      "execution_count": 8,
      "outputs": [
        {
          "output_type": "execute_result",
          "data": {
            "text/plain": [
              "(8982, 2246)"
            ]
          },
          "metadata": {
            "tags": []
          },
          "execution_count": 8
        }
      ]
    },
    {
      "cell_type": "code",
      "metadata": {
        "id": "C9pbrzWgtvQG",
        "colab_type": "code",
        "colab": {
          "base_uri": "https://localhost:8080/",
          "height": 71
        },
        "outputId": "6b0d3094-2e5d-41fb-d264-c1824e8fc817"
      },
      "source": [
        "word_index = reuters.get_word_index()\n",
        "reverse_word_idex = dict([(value,key) for (key,value) in word_index.items()])\n",
        "decoded_newswire = ' '.join([reverse_word_idex.get(i-3,'?') for i in train_data[1]])"
      ],
      "execution_count": 4,
      "outputs": [
        {
          "output_type": "stream",
          "text": [
            "Downloading data from https://s3.amazonaws.com/text-datasets/reuters_word_index.json\n",
            "557056/550378 [==============================] - 0s 0us/step\n"
          ],
          "name": "stdout"
        }
      ]
    },
    {
      "cell_type": "code",
      "metadata": {
        "id": "8AGwG2Eot63P",
        "colab_type": "code",
        "colab": {
          "base_uri": "https://localhost:8080/",
          "height": 88
        },
        "outputId": "98cfc63c-9364-418e-c341-83f704413790"
      },
      "source": [
        "decoded_newswire"
      ],
      "execution_count": 23,
      "outputs": [
        {
          "output_type": "execute_result",
          "data": {
            "application/vnd.google.colaboratory.intrinsic": {
              "type": "string"
            },
            "text/plain": [
              "'? generale de banque sa lt ? br and lt heller overseas corp of chicago have each taken 50 pct stakes in ? company sa ? factors generale de banque said in a statement it gave no financial details of the transaction sa ? ? turnover in 1986 was 17 5 billion belgian francs reuter 3'"
            ]
          },
          "metadata": {
            "tags": []
          },
          "execution_count": 23
        }
      ]
    },
    {
      "cell_type": "code",
      "metadata": {
        "id": "VZ3fPixQvSET",
        "colab_type": "code",
        "colab": {
          "base_uri": "https://localhost:8080/",
          "height": 34
        },
        "outputId": "c224aef4-2b0f-4fa9-895a-6c102fa14757"
      },
      "source": [
        "train_labels[10]"
      ],
      "execution_count": 25,
      "outputs": [
        {
          "output_type": "execute_result",
          "data": {
            "text/plain": [
              "3"
            ]
          },
          "metadata": {
            "tags": []
          },
          "execution_count": 25
        }
      ]
    },
    {
      "cell_type": "code",
      "metadata": {
        "id": "N_93R02gvxh7",
        "colab_type": "code",
        "colab": {}
      },
      "source": [
        "import numpy as np\n",
        "def vectorize_sequences(sequences,dimensions = 10000):\n",
        "  results = np.zeros((len(sequences),dimensions))\n",
        "  for i , sequence in enumerate(sequences):\n",
        "    results[i,sequence] =  1.\n",
        "  return results\n",
        "\n"
      ],
      "execution_count": 6,
      "outputs": []
    },
    {
      "cell_type": "code",
      "metadata": {
        "id": "4onWTfyfxaOb",
        "colab_type": "code",
        "colab": {}
      },
      "source": [
        "x_train = vectorize_sequences(train_data)\n",
        "x_test = vectorize_sequences(test_data)\n"
      ],
      "execution_count": 7,
      "outputs": []
    },
    {
      "cell_type": "code",
      "metadata": {
        "id": "bnIlBjGYx0CF",
        "colab_type": "code",
        "colab": {}
      },
      "source": [
        "def to_one_hot(labels,dimension = 46):\n",
        "  results = np.zeros((len(labels),dimension))\n",
        "  for i , label in enumerate(labels):\n",
        "    results[i,label] = 1\n",
        "  return results"
      ],
      "execution_count": 8,
      "outputs": []
    },
    {
      "cell_type": "code",
      "metadata": {
        "id": "wnjaMFFQxoF0",
        "colab_type": "code",
        "colab": {
          "base_uri": "https://localhost:8080/",
          "height": 34
        },
        "outputId": "ae0d0b98-70b8-469e-caf7-b06c22230290"
      },
      "source": [
        "one_hot_train_labels = to_one_hot(train_labels)\n",
        "one_hot_test_labels = to_one_hot(test_labels)\n",
        "one_hot_train_labels.ndim"
      ],
      "execution_count": 10,
      "outputs": [
        {
          "output_type": "execute_result",
          "data": {
            "text/plain": [
              "2"
            ]
          },
          "metadata": {
            "tags": []
          },
          "execution_count": 10
        }
      ]
    },
    {
      "cell_type": "code",
      "metadata": {
        "id": "3sJ92PLEynoM",
        "colab_type": "code",
        "colab": {}
      },
      "source": [
        "\n",
        "from keras.utils.np_utils import to_categorical\n",
        "one_hot_train_labels = to_categorical(train_labels)\n",
        "one_hot_test_labels = to_categorical(test_labels)"
      ],
      "execution_count": 11,
      "outputs": []
    },
    {
      "cell_type": "code",
      "metadata": {
        "id": "g1-tgMDBjRk3",
        "colab_type": "code",
        "colab": {}
      },
      "source": [
        "from keras import models\n",
        "from keras import layers\n",
        "\n",
        "model = models.Sequential()\n"
      ],
      "execution_count": 13,
      "outputs": []
    },
    {
      "cell_type": "code",
      "metadata": {
        "id": "vDq5NRUmj9lp",
        "colab_type": "code",
        "colab": {}
      },
      "source": [
        "model.add(layers.Dense(64,activation = 'relu',input_shape = (10000,)))\n",
        "model.add(layers.Dense(64,activation='relu'))\n",
        "model.add(layers.Dense(46,activation='softmax'))"
      ],
      "execution_count": 14,
      "outputs": []
    },
    {
      "cell_type": "code",
      "metadata": {
        "id": "lSGFWF8dkfnN",
        "colab_type": "code",
        "colab": {}
      },
      "source": [
        "model.compile(optimizer='rmsprop',loss = 'categorical_crossentropy',\\\n",
        "              metrics = ['accuracy'])"
      ],
      "execution_count": 15,
      "outputs": []
    },
    {
      "cell_type": "code",
      "metadata": {
        "id": "LYwtSNAXlgbz",
        "colab_type": "code",
        "colab": {}
      },
      "source": [
        "x_val = x_train[:1000]\n",
        "partial_x_train = x_train[1000:]\n",
        "y_val = one_hot_train_labels[:1000]\n",
        "partial_y_train = one_hot_train_labels[1000:]"
      ],
      "execution_count": 18,
      "outputs": []
    },
    {
      "cell_type": "code",
      "metadata": {
        "id": "qlK435UZlzJ0",
        "colab_type": "code",
        "colab": {
          "base_uri": "https://localhost:8080/",
          "height": 734
        },
        "outputId": "84655904-9695-4ba3-ceb3-dff4b9b8b6a4"
      },
      "source": [
        "\n",
        "# Listing 3.18 Training the model\n",
        "\n",
        "history = model.fit(partial_x_train,partial_y_train,epochs=20,batch_size=512,validation_data=(x_val,y_val))"
      ],
      "execution_count": 19,
      "outputs": [
        {
          "output_type": "stream",
          "text": [
            "Train on 7982 samples, validate on 1000 samples\n",
            "Epoch 1/20\n",
            "7982/7982 [==============================] - 1s 180us/step - loss: 2.6336 - accuracy: 0.5373 - val_loss: 1.7445 - val_accuracy: 0.6270\n",
            "Epoch 2/20\n",
            "7982/7982 [==============================] - 1s 118us/step - loss: 1.4290 - accuracy: 0.7078 - val_loss: 1.3249 - val_accuracy: 0.7340\n",
            "Epoch 3/20\n",
            "7982/7982 [==============================] - 1s 113us/step - loss: 1.0625 - accuracy: 0.7838 - val_loss: 1.1460 - val_accuracy: 0.7660\n",
            "Epoch 4/20\n",
            "7982/7982 [==============================] - 1s 113us/step - loss: 0.8334 - accuracy: 0.8257 - val_loss: 1.0518 - val_accuracy: 0.7760\n",
            "Epoch 5/20\n",
            "7982/7982 [==============================] - 1s 114us/step - loss: 0.6640 - accuracy: 0.8627 - val_loss: 0.9994 - val_accuracy: 0.7970\n",
            "Epoch 6/20\n",
            "7982/7982 [==============================] - 1s 116us/step - loss: 0.5363 - accuracy: 0.8920 - val_loss: 0.9378 - val_accuracy: 0.8080\n",
            "Epoch 7/20\n",
            "7982/7982 [==============================] - 1s 113us/step - loss: 0.4257 - accuracy: 0.9121 - val_loss: 0.9026 - val_accuracy: 0.8190\n",
            "Epoch 8/20\n",
            "7982/7982 [==============================] - 1s 116us/step - loss: 0.3584 - accuracy: 0.9258 - val_loss: 0.9434 - val_accuracy: 0.7980\n",
            "Epoch 9/20\n",
            "7982/7982 [==============================] - 1s 114us/step - loss: 0.2941 - accuracy: 0.9366 - val_loss: 0.9112 - val_accuracy: 0.8170\n",
            "Epoch 10/20\n",
            "7982/7982 [==============================] - 1s 113us/step - loss: 0.2464 - accuracy: 0.9441 - val_loss: 0.9531 - val_accuracy: 0.8080\n",
            "Epoch 11/20\n",
            "7982/7982 [==============================] - 1s 114us/step - loss: 0.2178 - accuracy: 0.9471 - val_loss: 0.9190 - val_accuracy: 0.8170\n",
            "Epoch 12/20\n",
            "7982/7982 [==============================] - 1s 115us/step - loss: 0.1855 - accuracy: 0.9505 - val_loss: 0.9931 - val_accuracy: 0.8060\n",
            "Epoch 13/20\n",
            "7982/7982 [==============================] - 1s 114us/step - loss: 0.1715 - accuracy: 0.9530 - val_loss: 0.9550 - val_accuracy: 0.8140\n",
            "Epoch 14/20\n",
            "7982/7982 [==============================] - 1s 114us/step - loss: 0.1517 - accuracy: 0.9564 - val_loss: 0.9466 - val_accuracy: 0.8110\n",
            "Epoch 15/20\n",
            "7982/7982 [==============================] - 1s 113us/step - loss: 0.1423 - accuracy: 0.9562 - val_loss: 1.0872 - val_accuracy: 0.7880\n",
            "Epoch 16/20\n",
            "7982/7982 [==============================] - 1s 114us/step - loss: 0.1321 - accuracy: 0.9577 - val_loss: 1.0240 - val_accuracy: 0.8050\n",
            "Epoch 17/20\n",
            "7982/7982 [==============================] - 1s 115us/step - loss: 0.1284 - accuracy: 0.9565 - val_loss: 1.0479 - val_accuracy: 0.8070\n",
            "Epoch 18/20\n",
            "7982/7982 [==============================] - 1s 117us/step - loss: 0.1194 - accuracy: 0.9565 - val_loss: 1.1014 - val_accuracy: 0.8030\n",
            "Epoch 19/20\n",
            "7982/7982 [==============================] - 1s 113us/step - loss: 0.1190 - accuracy: 0.9567 - val_loss: 1.0598 - val_accuracy: 0.8090\n",
            "Epoch 20/20\n",
            "7982/7982 [==============================] - 1s 113us/step - loss: 0.1144 - accuracy: 0.9567 - val_loss: 1.0668 - val_accuracy: 0.8090\n"
          ],
          "name": "stdout"
        }
      ]
    },
    {
      "cell_type": "code",
      "metadata": {
        "id": "1tJReXUtmQS8",
        "colab_type": "code",
        "colab": {
          "base_uri": "https://localhost:8080/",
          "height": 295
        },
        "outputId": "ae0c24a7-31f7-4407-f6db-261a6165fef5"
      },
      "source": [
        "import matplotlib.pyplot as plt\n",
        "loss = history.history['loss']\n",
        "val_loss = history.history['val_loss']\n",
        "epochs = range(1,len(loss) + 1)\n",
        "\n",
        "plt.plot(epochs,loss,'bo',label = 'Training_loss')\n",
        "plt.plot(epochs,val_loss,'b',label = 'validation loss')\n",
        "plt.title('Training and validation loss') \n",
        "plt.xlabel('Epochs')\n",
        "plt.ylabel('Loss') \n",
        "plt.legend()\n",
        "plt.show()"
      ],
      "execution_count": 29,
      "outputs": [
        {
          "output_type": "display_data",
          "data": {
            "image/png": "[encoded data removed]",
            "text/plain": [
              "<Figure size 432x288 with 1 Axes>"
            ]
          },
          "metadata": {
            "tags": [],
            "needs_background": "light"
          }
        }
      ]
    },
    {
      "cell_type": "code",
      "metadata": {
        "id": "kYsEsKoR2e-P",
        "colab_type": "code",
        "colab": {
          "base_uri": "https://localhost:8080/",
          "height": 295
        },
        "outputId": "75937917-4fe0-40b8-9373-e851ed098ebf"
      },
      "source": [
        "plt.clf()\n",
        "# Clears the figure\n",
        "acc = history.history['accuracy']\n",
        "val_acc = history.history['val_accuracy']\n",
        "plt.plot(epochs, acc, 'bo', label='Training acc') \n",
        "plt.plot(epochs, val_acc, 'b', label='Validation acc') \n",
        "plt.title('Training and validation accuracy') \n",
        "plt.xlabel('Epochs')\n",
        "plt.ylabel('Loss') \n",
        "plt.legend()\n",
        "plt.show()\n",
        "# Figure 3.9 Training and validation loss\n",
        " "
      ],
      "execution_count": 36,
      "outputs": [
        {
          "output_type": "display_data",
          "data": {
            "image/png": "[encoded data removed]",
            "text/plain": [
              "<Figure size 432x288 with 1 Axes>"
            ]
          },
          "metadata": {
            "tags": [],
            "needs_background": "light"
          }
        }
      ]
    },
    {
      "cell_type": "code",
      "metadata": {
        "id": "Zqlc28J24Gc9",
        "colab_type": "code",
        "colab": {}
      },
      "source": [
        "# Listing 3.21 Retraining a model from scratch"
      ],
      "execution_count": null,
      "outputs": []
    },
    {
      "cell_type": "code",
      "metadata": {
        "id": "DMtZVVAM48R1",
        "colab_type": "code",
        "colab": {}
      },
      "source": [
        "model = models.Sequential()"
      ],
      "execution_count": 38,
      "outputs": []
    },
    {
      "cell_type": "code",
      "metadata": {
        "id": "amj28eG85BPa",
        "colab_type": "code",
        "colab": {}
      },
      "source": [
        "model.add(layers.Dense(64,activation='relu',input_shape = (10000,)))\n",
        "model.add(layers.Dense(64,activation='relu'))\n",
        "model.add(layers.Dense(46,activation='softmax'))\n"
      ],
      "execution_count": 40,
      "outputs": []
    },
    {
      "cell_type": "code",
      "metadata": {
        "id": "mjPaRFH25WPG",
        "colab_type": "code",
        "colab": {}
      },
      "source": [
        "model.compile(optimizer='rmsprop',loss = 'categorical_crossentropy',\\\n",
        "              metrics = ['accuracy'])"
      ],
      "execution_count": 44,
      "outputs": []
    },
    {
      "cell_type": "code",
      "metadata": {
        "id": "_u_TuPzq5k8p",
        "colab_type": "code",
        "colab": {
          "base_uri": "https://localhost:8080/",
          "height": 377
        },
        "outputId": "7e8fd753-8962-41b0-8b90-26d16c2090c2"
      },
      "source": [
        "model.fit(partial_x_train,partial_y_train,epochs = 9,batch_size=512,validation_data=(x_val,y_val))\n",
        "results = model.evaluate(x_test,one_hot_test_labels)"
      ],
      "execution_count": 46,
      "outputs": [
        {
          "output_type": "stream",
          "text": [
            "Train on 7982 samples, validate on 1000 samples\n",
            "Epoch 1/9\n",
            "7982/7982 [==============================] - 2s 250us/step - loss: 2.6969 - accuracy: 0.4876 - val_loss: 1.7491 - val_accuracy: 0.6080\n",
            "Epoch 2/9\n",
            "7982/7982 [==============================] - 1s 118us/step - loss: 1.4629 - accuracy: 0.6790 - val_loss: 1.3937 - val_accuracy: 0.6630\n",
            "Epoch 3/9\n",
            "7982/7982 [==============================] - 1s 117us/step - loss: 1.1198 - accuracy: 0.7494 - val_loss: 1.2272 - val_accuracy: 0.7180\n",
            "Epoch 4/9\n",
            "7982/7982 [==============================] - 1s 118us/step - loss: 0.8994 - accuracy: 0.7923 - val_loss: 1.1084 - val_accuracy: 0.7570\n",
            "Epoch 5/9\n",
            "7982/7982 [==============================] - 1s 117us/step - loss: 0.7126 - accuracy: 0.8354 - val_loss: 1.0930 - val_accuracy: 0.7560\n",
            "Epoch 6/9\n",
            "7982/7982 [==============================] - 1s 117us/step - loss: 0.5854 - accuracy: 0.8631 - val_loss: 1.2064 - val_accuracy: 0.7170\n",
            "Epoch 7/9\n",
            "7982/7982 [==============================] - 1s 116us/step - loss: 0.4741 - accuracy: 0.8880 - val_loss: 1.0314 - val_accuracy: 0.7950\n",
            "Epoch 8/9\n",
            "7982/7982 [==============================] - 1s 119us/step - loss: 0.3841 - accuracy: 0.9172 - val_loss: 1.0212 - val_accuracy: 0.8000\n",
            "Epoch 9/9\n",
            "7982/7982 [==============================] - 1s 115us/step - loss: 0.3202 - accuracy: 0.9276 - val_loss: 1.0692 - val_accuracy: 0.7940\n",
            "2246/2246 [==============================] - 0s 89us/step\n"
          ],
          "name": "stdout"
        }
      ]
    },
    {
      "cell_type": "code",
      "metadata": {
        "id": "At-zwidA560-",
        "colab_type": "code",
        "colab": {
          "base_uri": "https://localhost:8080/",
          "height": 34
        },
        "outputId": "1d58a763-b8f0-4f4e-91a0-cde63d6046c9"
      },
      "source": [
        "results"
      ],
      "execution_count": 47,
      "outputs": [
        {
          "output_type": "execute_result",
          "data": {
            "text/plain": [
              "[1.1783921370417119, 0.7702582478523254]"
            ]
          },
          "metadata": {
            "tags": []
          },
          "execution_count": 47
        }
      ]
    },
    {
      "cell_type": "code",
      "metadata": {
        "id": "BomXrYiX6HLz",
        "colab_type": "code",
        "colab": {}
      },
      "source": [
        "import copy\n",
        "test_labels_copy = copy.copy(test_labels)\n"
      ],
      "execution_count": 48,
      "outputs": []
    },
    {
      "cell_type": "code",
      "metadata": {
        "id": "SSrhuRbD7WlQ",
        "colab_type": "code",
        "colab": {}
      },
      "source": [
        "np.random.shuffle(test_labels_copy)"
      ],
      "execution_count": 50,
      "outputs": []
    },
    {
      "cell_type": "code",
      "metadata": {
        "id": "2ylo93_27X-v",
        "colab_type": "code",
        "colab": {}
      },
      "source": [
        "its_array =h np.array(test_labels) == np.array(test_labels_copy)"
      ],
      "execution_count": 51,
      "outputs": []
    },
    {
      "cell_type": "code",
      "metadata": {
        "id": "XtdXnfBz8RVs",
        "colab_type": "code",
        "colab": {
          "base_uri": "https://localhost:8080/",
          "height": 34
        },
        "outputId": "0c7d19f8-fff2-47a5-84cb-12547177ef90"
      },
      "source": [
        ""
      ],
      "execution_count": 52,
      "outputs": [
        {
          "output_type": "execute_result",
          "data": {
            "text/plain": [
              "array([False, False,  True, ..., False,  True, False])"
            ]
          },
          "metadata": {
            "tags": []
          },
          "execution_count": 52
        }
      ]
    },
    {
      "cell_type": "code",
      "metadata": {
        "id": "zabq2n2P8SVK",
        "colab_type": "code",
        "colab": {
          "base_uri": "https://localhost:8080/",
          "height": 34
        },
        "outputId": "a4737c34-3aaa-4ad2-ddef-fbd5adf968bb"
      },
      "source": [
        "float(np.sum(hits_array)) / len(test_labels)"
      ],
      "execution_count": 53,
      "outputs": [
        {
          "output_type": "execute_result",
          "data": {
            "text/plain": [
              "0.19367764915405164"
            ]
          },
          "metadata": {
            "tags": []
          },
          "execution_count": 53
        }
      ]
    },
    {
      "cell_type": "code",
      "metadata": {
        "id": "g-ivu4Ij8aZR",
        "colab_type": "code",
        "colab": {}
      },
      "source": [
        "# This approach reaches an accuracy of ~80%. With a balanced binary classification problem, the accuracy reached by a purely random classifier would be 50%. But in this case it’s closer to 19%, so the results seem pretty good, at least when compared to a random baseline:\n"
      ],
      "execution_count": null,
      "outputs": []
    },
    {
      "cell_type": "code",
      "metadata": {
        "id": "gOIDJ5ms92mw",
        "colab_type": "code",
        "colab": {}
      },
      "source": [
        "predictions = model.predict(x_test)"
      ],
      "execution_count": 55,
      "outputs": []
    },
    {
      "cell_type": "code",
      "metadata": {
        "id": "blOsbwTt94zH",
        "colab_type": "code",
        "colab": {
          "base_uri": "https://localhost:8080/",
          "height": 34
        },
        "outputId": "d84c932b-f9aa-498b-f10e-72176c4c65dc"
      },
      "source": [
        "predictions[2].shape"
      ],
      "execution_count": 62,
      "outputs": [
        {
          "output_type": "execute_result",
          "data": {
            "text/plain": [
              "(46,)"
            ]
          },
          "metadata": {
            "tags": []
          },
          "execution_count": 62
        }
      ]
    },
    {
      "cell_type": "code",
      "metadata": {
        "id": "jlwq85cV-A_R",
        "colab_type": "code",
        "colab": {
          "base_uri": "https://localhost:8080/",
          "height": 34
        },
        "outputId": "7d2d3340-cfef-4daf-b83e-b6d7f174a96a"
      },
      "source": [
        "np.sum(predictions[2])"
      ],
      "execution_count": 64,
      "outputs": [
        {
          "output_type": "execute_result",
          "data": {
            "text/plain": [
              "1.0"
            ]
          },
          "metadata": {
            "tags": []
          },
          "execution_count": 64
        }
      ]
    },
    {
      "cell_type": "code",
      "metadata": {
        "id": "PYJjBOLE-S6z",
        "colab_type": "code",
        "colab": {
          "base_uri": "https://localhost:8080/",
          "height": 34
        },
        "outputId": "f57785a6-4407-4bbd-cdd7-1bb65f3330f9"
      },
      "source": [
        "np.argmax(predictions[0])"
      ],
      "execution_count": 65,
      "outputs": [
        {
          "output_type": "execute_result",
          "data": {
            "text/plain": [
              "3"
            ]
          },
          "metadata": {
            "tags": []
          },
          "execution_count": 65
        }
      ]
    },
    {
      "cell_type": "code",
      "metadata": {
        "id": "mdgPvnQI-ZUo",
        "colab_type": "code",
        "colab": {
          "base_uri": "https://localhost:8080/",
          "height": 34
        },
        "outputId": "fea92fc0-d947-4107-9e1b-fd98f3bf56f3"
      },
      "source": [
        "x_test[0]"
      ],
      "execution_count": 68,
      "outputs": [
        {
          "output_type": "execute_result",
          "data": {
            "text/plain": [
              "array([0., 1., 1., ..., 0., 0., 0.])"
            ]
          },
          "metadata": {
            "tags": []
          },
          "execution_count": 68
        }
      ]
    },
    {
      "cell_type": "code",
      "metadata": {
        "id": "wm8CiW-Y-bkd",
        "colab_type": "code",
        "colab": {}
      },
      "source": [
        "# A different way to handle the labels and the loss\n",
        "y_train = np.array(train_labels)\n",
        "y_test = np.array(test_labels)\n"
      ],
      "execution_count": 71,
      "outputs": []
    },
    {
      "cell_type": "code",
      "metadata": {
        "id": "Do1hiY3C_CaQ",
        "colab_type": "code",
        "colab": {}
      },
      "source": [
        "model.compile(optimizer='rmsprop', loss='sparse_categorical_crossentropy',\n",
        "metrics=['acc'])"
      ],
      "execution_count": 72,
      "outputs": []
    },
    {
      "cell_type": "code",
      "metadata": {
        "id": "wAzA8gdZ_S2l",
        "colab_type": "code",
        "colab": {}
      },
      "source": [
        "\"\"\"\n",
        " The only thing this approach \n",
        " would change is the choice of the loss function. \n",
        " The loss function used in listing 3.21, categorical_crossentropy, expects the labels to follow \n",
        " a categorical encoding. With \n",
        " integer labels, you should use sparse_categorical_ crossentropy:\n",
        "\n",
        " \"\"\"\n"
      ],
      "execution_count": null,
      "outputs": []
    },
    {
      "cell_type": "code",
      "metadata": {
        "id": "BZmD7unxAbGh",
        "colab_type": "code",
        "colab": {
          "base_uri": "https://localhost:8080/",
          "height": 411
        },
        "outputId": "aa20bf83-ccf4-426b-fe94-b2f6bdf0587b"
      },
      "source": [
        "model = models.Sequential()\n",
        "model.add(layers.Dense(64, activation='relu', input_shape=(10000,))) \n",
        "model.add(layers.Dense(46, activation='softmax'))\n",
        "model.compile(optimizer='rmsprop', loss='categorical_crossentropy',\\\n",
        "metrics=['accuracy']) \n",
        "model.fit(partial_x_train,\\\n",
        "          partial_y_train,\\\n",
        "          epochs=10,\\\n",
        "          batch_size=128,\\\n",
        "          validation_data=(x_val, y_val))\n"
      ],
      "execution_count": 78,
      "outputs": [
        {
          "output_type": "stream",
          "text": [
            "Train on 7982 samples, validate on 1000 samples\n",
            "Epoch 1/10\n",
            "7982/7982 [==============================] - 1s 159us/step - loss: 1.8896 - accuracy: 0.6463 - val_loss: 1.2326 - val_accuracy: 0.7420\n",
            "Epoch 2/10\n",
            "7982/7982 [==============================] - 1s 153us/step - loss: 0.9357 - accuracy: 0.8031 - val_loss: 0.9903 - val_accuracy: 0.7870\n",
            "Epoch 3/10\n",
            "7982/7982 [==============================] - 1s 148us/step - loss: 0.6328 - accuracy: 0.8708 - val_loss: 0.8775 - val_accuracy: 0.8260\n",
            "Epoch 4/10\n",
            "7982/7982 [==============================] - 1s 153us/step - loss: 0.4500 - accuracy: 0.9074 - val_loss: 0.8167 - val_accuracy: 0.8300\n",
            "Epoch 5/10\n",
            "7982/7982 [==============================] - 1s 152us/step - loss: 0.3366 - accuracy: 0.9273 - val_loss: 0.8172 - val_accuracy: 0.8250\n",
            "Epoch 6/10\n",
            "7982/7982 [==============================] - 1s 153us/step - loss: 0.2651 - accuracy: 0.9406 - val_loss: 0.8233 - val_accuracy: 0.8330\n",
            "Epoch 7/10\n",
            "7982/7982 [==============================] - 1s 150us/step - loss: 0.2149 - accuracy: 0.9476 - val_loss: 0.8471 - val_accuracy: 0.8260\n",
            "Epoch 8/10\n",
            "7982/7982 [==============================] - 1s 153us/step - loss: 0.1862 - accuracy: 0.9505 - val_loss: 0.8614 - val_accuracy: 0.8240\n",
            "Epoch 9/10\n",
            "7982/7982 [==============================] - 1s 155us/step - loss: 0.1608 - accuracy: 0.9535 - val_loss: 0.8877 - val_accuracy: 0.8280\n",
            "Epoch 10/10\n",
            "7982/7982 [==============================] - 1s 154us/step - loss: 0.1470 - accuracy: 0.9567 - val_loss: 0.9407 - val_accuracy: 0.8200\n"
          ],
          "name": "stdout"
        },
        {
          "output_type": "execute_result",
          "data": {
            "text/plain": [
              "<keras.callbacks.callbacks.History at 0x7ffa0878bfd0>"
            ]
          },
          "metadata": {
            "tags": []
          },
          "execution_count": 78
        }
      ]
    },
    {
      "cell_type": "code",
      "metadata": {
        "id": "gwLFxxvmA1zd",
        "colab_type": "code",
        "colab": {}
      },
      "source": [
        "\"\"\"\n",
        "Here’s what you should take away from this example:\n",
        " If you’re trying to classify data points among N classes, your network should end with a Dense layer of size N.\n",
        " In a single-label, multiclass classification problem, your network should end with a softmax activation so that it will output a probability distribution over the N output classes.\n",
        " Categorical crossentropy is almost always the loss function you should use for such problems. It minimizes the distance between the probability distributions output by the network and the true distribution of the targets.\n",
        " There are two ways to handle labels in multiclass classification:\n",
        "– Encoding the labels via categorical encoding (also known as one-hot encod-\n",
        "ing) and using categorical_crossentropy as a loss function\n",
        "– Encoding the labels as integers and using the sparse_categorical_crossentropy\n",
        "loss function\n",
        " If you need to classify data into a large number of categories, you should avoid\n",
        "creating information bottlenecks in your network due to intermediate layers that are too small.\n",
        "\n",
        "\"\""
      ],
      "execution_count": null,
      "outputs": []
    }
  ]
}